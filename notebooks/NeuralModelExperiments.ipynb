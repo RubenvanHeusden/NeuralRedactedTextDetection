{
 "cells": [
  {
   "cell_type": "markdown",
   "id": "d16806f3",
   "metadata": {},
   "source": [
    "# Evaluation of the neural segmentation models\n",
    "\n",
    "This notebook contains the main results of the paper, where we evaluate the baseline and neural models on both portions of the dataset, and vary the number of training samples for the neural models. We use several evaluation functions from from the `evluation.py` file to perform the evaluation. Note that we have already performed the training and evaluation beforehand, as this can take quite some time, especially on a CPU. Both the training scripts and the trained models are provided if you wish to use these models yourself.\n",
    "\n",
    "## Index\n",
    "\n",
    "1. [Standard Experiment](#standard_experiment)"
   ]
  },
  {
   "cell_type": "markdown",
   "id": "7ef05cb4",
   "metadata": {},
   "source": [
    "<a id=\"standard_experiment\"><h2>Standard Experiment</h2></a>"
   ]
  },
  {
   "cell_type": "markdown",
   "id": "baec69cd",
   "metadata": {},
   "source": [
    "We will start by loading in the the predictions of the models and the ground truth, and do some small visualizations, after which we compare the scores of all the three models."
   ]
  },
  {
   "cell_type": "code",
   "execution_count": 1,
   "id": "b9609065",
   "metadata": {},
   "outputs": [],
   "source": [
    "import os\n",
    "import json\n",
    "import torch\n",
    "import numpy as np\n",
    "import pandas as pd\n",
    "from PIL import Image\n",
    "from tqdm import tqdm\n",
    "from glob import glob\n",
    "import pycocotools.coco\n",
    "from skimage import measure\n",
    "from torchvision.ops import nms\n",
    "import matplotlib.pyplot as plt\n",
    "from pycocotools.coco import COCO\n",
    "from pycocotools.mask import decode, encode, merge, iou, area, frPyObjects    \n",
    "\n",
    "# Import the evaluation code\n",
    "from evaluation import *"
   ]
  },
  {
   "cell_type": "code",
   "execution_count": 2,
   "id": "20554cff",
   "metadata": {},
   "outputs": [],
   "source": [
    "import cv2\n",
    "from PIL import Image\n",
    "def load_image(image_path: str) -> np.ndarray:\n",
    "    \"\"\"\n",
    "    Function that loads an image from a path.\n",
    "    :param image_path: string specifying the path to the image\n",
    "    :return: Numpy array with the image in BGR format.\n",
    "    \"\"\"\n",
    "    image = Image.open(image_path)\n",
    "    return image"
   ]
  },
  {
   "cell_type": "code",
   "execution_count": 3,
   "id": "04041e83",
   "metadata": {},
   "outputs": [],
   "source": [
    "import torchvision.transforms.functional as F\n",
    "\n",
    "plt.rcParams[\"savefig.bbox\"] = \"tight\"\n",
    "\n",
    "\n",
    "def show(imgs):\n",
    "    if not isinstance(imgs, list):\n",
    "        imgs = [imgs]\n",
    "    fix, axs = plt.subplots(ncols=len(imgs), squeeze=False)\n",
    "    for i, img in enumerate(imgs):\n",
    "        img = img.detach()\n",
    "        img = F.to_pil_image(img)\n",
    "        axs[0, i].imshow(np.asarray(img))\n",
    "        axs[0, i].set(xticklabels=[], yticklabels=[], xticks=[], yticks=[])"
   ]
  },
  {
   "cell_type": "code",
   "execution_count": 4,
   "id": "86872d46",
   "metadata": {},
   "outputs": [],
   "source": [
    "# write a function that can nicely display ground truth and predicted and ground truth masks\n",
    "from torchvision.utils import draw_segmentation_masks\n",
    "from torchvision.utils import draw_bounding_boxes\n",
    "\n",
    "from pycocotools.mask import decode, encode, merge, area, frPyObjects, toBbox  \n",
    "\n",
    "def visualize_annotations(image_filename, gold_standard_json, predicted_json, score_treshold: float=0.5,\n",
    "                         vis_mode: str ='masks'):\n",
    "    \n",
    "    assert vis_mode in ['masks', 'boxes']\n",
    "    \n",
    "    plt.rcParams[\"figure.figsize\"] = (20, 20)\n",
    "    image_path = os.path.join(\"/\".join(gold_standard_json.split('/')[:-1]), 'images', image_filename)\n",
    "    im_arr = torch.from_numpy(np.array(load_image(image_path))).permute(2, 0, 1)\n",
    "\n",
    "    with open(gold_standard_json, 'r') as f:\n",
    "        ground_truth_json = json.load(f)\n",
    "        \n",
    "    \n",
    "    with open(predicted_json, 'r') as f:\n",
    "        predicted_json = json.load(f)\n",
    "        \n",
    "    # Add ids to anontations\n",
    "    if isinstance(predicted_json, list):\n",
    "        for i in range(len(predicted_json)):\n",
    "            predicted_json[i]['id'] = i+1\n",
    "    else:\n",
    "        predicted_json = predicted_json['annotations']\n",
    "        \n",
    "    image = [item for item in ground_truth_json['images'] if item['file_name'] == image_filename][0]\n",
    "    image_id = image['id']\n",
    "    scores = {'TP': [], 'FP': [], 'FN': [], 'IOU': []}\n",
    "\n",
    "    ground_truth_annotations = [item for item in ground_truth_json['annotations'] if item['image_id'] == image_id]\n",
    "    predicted_annotations = [item for item in predicted_json if item['image_id'] == image_id]\n",
    "    filtered_predicted_annotations = [item for item in predicted_annotations if area(item['segmentation']) > 0 and (item['score'] > score_treshold)]\n",
    "    print(len(filtered_predicted_annotations))\n",
    "    TP = []\n",
    "    IOU = []\n",
    "\n",
    "    # Next we will have to filter the annotations, as some have an overlap that is too big\n",
    "    # or where the confidence threshold is too low.\n",
    "    ground_truth_indices = [item['id'] for item in ground_truth_annotations]\n",
    "    pred_indices = [item['id'] for item in filtered_predicted_annotations]\n",
    "\n",
    "\n",
    "    for gt_annot in ground_truth_annotations:\n",
    "        for pred_annot in filtered_predicted_annotations:\n",
    "\n",
    "            gt_mask = gt_annot['segmentation']\n",
    "            pred_mask = pred_annot['segmentation']\n",
    "\n",
    "            combined_area = area(merge([gt_mask, pred_mask]))\n",
    "            intersected_area = area(merge([gt_mask, pred_mask], intersect=True))\n",
    "            iou_score = intersected_area/combined_area\n",
    "\n",
    "            if iou_score > 0.5:\n",
    "                TP.append([gt_annot['id'], pred_annot['id']])\n",
    "                IOU.append(iou_score)\n",
    "\n",
    "    FP = set(pred_indices) - set([item[1] for item in TP])\n",
    "    FN = set(ground_truth_indices) - set([item[0] for item in TP])\n",
    "    \n",
    "    decode_func = decode if vis_mode == 'masks' else toBbox\n",
    "    \n",
    "    FP_objects = [decode_func(item['segmentation']) for item in filtered_predicted_annotations if item['id'] in FP]\n",
    "    FN_objects = [decode_func(item['segmentation']) for item in ground_truth_annotations if item['id'] in FN]\n",
    "    TP_objects = [decode_func(item['segmentation']) for item in filtered_predicted_annotations if item['id'] in [it[1] for it in TP]]\n",
    "    \n",
    "    if FP_objects:\n",
    "        FP_objects = np.stack(FP_objects)\n",
    "    if FN_objects:\n",
    "        FN_objects = np.stack(FN_objects)\n",
    "    if TP_objects:\n",
    "        TP_objects = np.stack(TP_objects)\n",
    "    \n",
    "    all_objects = np.concatenate([item for item in [FP_objects, FN_objects, TP_objects] if isinstance(item, np.ndarray)])\n",
    "    colors = ['red' for _ in range(len(FP_objects))] +  ['yellow' for _ in range(len(FN_objects))] + ['green' for _ in range(len(TP_objects))]\n",
    "    if vis_mode == 'masks':\n",
    "        show(draw_segmentation_masks(im_arr, torch.tensor(all_objects).bool(), colors=colors))\n",
    "    else:\n",
    "        all_boxes = box_convert(torch.tensor(all_objects), in_fmt='xywh', out_fmt='xyxy')\n",
    "        show(draw_bounding_boxes(im_arr, all_boxes, colors=colors, width=5))\n",
    "        \n",
    "    plt.show()"
   ]
  },
  {
   "cell_type": "markdown",
   "id": "4dfdbdc6",
   "metadata": {},
   "source": [
    "The first step is loading in the classic dataset and then run the evaluation of all three models."
   ]
  },
  {
   "cell_type": "code",
   "execution_count": 5,
   "id": "5d306285",
   "metadata": {},
   "outputs": [],
   "source": [
    "gold_standard_clean = read_json('../dataset/test/classic_test.json')\n",
    "maskrcnn_clean_predictions = read_json('../model_outputs/MaskRCNN_clean/coco_instances_results.json')\n",
    "mask2former_clean_predictions = read_json('../model_outputs/Mask2Former_clean/coco_instances_results.json')\n",
    "rulebased_clean_predictions = read_json('../model_outputs/Morphology_clean/coco_instances_results.json')"
   ]
  },
  {
   "cell_type": "code",
   "execution_count": 6,
   "id": "4ed30614",
   "metadata": {},
   "outputs": [
    {
     "name": "stderr",
     "output_type": "stream",
     "text": [
      "100%|█████████████████████████████████████████| 281/281 [00:04<00:00, 57.50it/s]\n",
      "100%|█████████████████████████████████████████| 281/281 [02:28<00:00,  1.89it/s]\n",
      "100%|█████████████████████████████████████████| 281/281 [00:03<00:00, 86.85it/s]\n"
     ]
    }
   ],
   "source": [
    "maskrcnn_clean_results = evaluate_predictions(gold_standard_clean['annotations'],\n",
    "                                                             maskrcnn_clean_predictions,\n",
    "                                              confidence_score=0.0, iou_score=0.00,\n",
    "                                             count_empty_pages=False)\n",
    "mask2former_clean_results = evaluate_predictions(gold_standard_clean['annotations'],\n",
    "                                                             mask2former_clean_predictions,\n",
    "                                                confidence_score=0.0, iou_score=0.00,\n",
    "                                                count_empty_pages=False)\n",
    "\n",
    "rulebased_clean_results = evaluate_predictions(gold_standard_clean['annotations'],\n",
    "                                                             rulebased_clean_predictions,\n",
    "                                              do_filtering=False)"
   ]
  },
  {
   "cell_type": "code",
   "execution_count": 7,
   "id": "6796cd1e",
   "metadata": {},
   "outputs": [],
   "source": [
    "classic_results = pd.concat([calculate_color_specific_metrics(rulebased_clean_results)[['black', 'color', 'gray', 'border', 'total']],\n",
    "                             calculate_color_specific_metrics(maskrcnn_clean_results)[['black', 'color', 'gray', 'border', 'total']],\n",
    "                             calculate_color_specific_metrics(mask2former_clean_results)[['black', 'color', 'gray', 'border', 'total']]],\n",
    "                            axis=1,\n",
    "                           keys=[\"Morphology\", \"MaskRCNN\", \"Mask2Former\"]).T[['SQ', 'P', 'R', 'F1']]"
   ]
  },
  {
   "cell_type": "code",
   "execution_count": 8,
   "id": "a5f214af",
   "metadata": {},
   "outputs": [
    {
     "data": {
      "text/plain": [
       "{'SQ': 0.82, 'F1': 0.67, 'P': 0.52, 'R': 0.95}"
      ]
     },
     "execution_count": 8,
     "metadata": {},
     "output_type": "execute_result"
    }
   ],
   "source": [
    "PQ_calculation(mask2former_clean_results)"
   ]
  },
  {
   "cell_type": "markdown",
   "id": "e4b1cd8b",
   "metadata": {},
   "source": [
    "# Extended dataset results"
   ]
  },
  {
   "cell_type": "markdown",
   "id": "e211d70f",
   "metadata": {},
   "source": [
    "After these results we will do the other set of experiments, this time on the extended dataset that also contains apges without redactions."
   ]
  },
  {
   "cell_type": "code",
   "execution_count": 9,
   "id": "af5fd7e6",
   "metadata": {},
   "outputs": [],
   "source": [
    "gold_standard_extended = read_json('../dataset/test/extended_test.json')\n",
    "maskrcnn_extended_predictions = read_json('../model_outputs/MaskRCNN_extended/coco_instances_results.json')\n",
    "mask2former_extended_predictions = read_json('../model_outputs/Mask2Former_extended/coco_instances_results.json')\n",
    "rulebased_extended_predictions = read_json('../model_outputs/Morphology_extended/coco_instances_results.json')"
   ]
  },
  {
   "cell_type": "code",
   "execution_count": 19,
   "id": "457ffda1",
   "metadata": {},
   "outputs": [
    {
     "name": "stderr",
     "output_type": "stream",
     "text": [
      "100%|█████████████████████████████████████████| 281/281 [00:04<00:00, 61.36it/s]\n",
      "100%|█████████████████████████████████████████| 281/281 [00:04<00:00, 62.98it/s]\n",
      "100%|█████████████████████████████████████████| 281/281 [00:03<00:00, 86.81it/s]\n"
     ]
    }
   ],
   "source": [
    "maskrcnn_extended_results = evaluate_predictions(gold_standard_extended['annotations'],\n",
    "                                                             maskrcnn_extended_predictions,\n",
    "                                              confidence_score=0.7,\n",
    "                                                count_empty_pages=True,\n",
    "                                                iou_score=0.2)\n",
    "mask2former_extended_results = evaluate_predictions(gold_standard_extended['annotations'],\n",
    "                                                             mask2former_extended_predictions,\n",
    "                                                confidence_score=0.7,\n",
    "                                                   count_empty_pages=True,\n",
    "                                                   iou_score=0.2)\n",
    "rulebased_extended_results = evaluate_predictions(gold_standard_extended['annotations'],\n",
    "                                                             rulebased_extended_predictions,\n",
    "                                              do_filtering=False,\n",
    "                                                 count_empty_pages=True)"
   ]
  },
  {
   "cell_type": "code",
   "execution_count": 20,
   "id": "24b484a8",
   "metadata": {},
   "outputs": [
    {
     "name": "stderr",
     "output_type": "stream",
     "text": [
      "/Users/rubenvanheusden/Desktop/IJDARKaj/notebooks/evaluation.py:88: RuntimeWarning: invalid value encountered in long_scalars\n",
      "  R = dataframe['TP'].sum() / (dataframe['TP'].sum() + dataframe['FN'].sum())\n",
      "/Users/rubenvanheusden/Desktop/IJDARKaj/notebooks/evaluation.py:88: RuntimeWarning: invalid value encountered in long_scalars\n",
      "  R = dataframe['TP'].sum() / (dataframe['TP'].sum() + dataframe['FN'].sum())\n",
      "/Users/rubenvanheusden/Desktop/IJDARKaj/notebooks/evaluation.py:88: RuntimeWarning: invalid value encountered in long_scalars\n",
      "  R = dataframe['TP'].sum() / (dataframe['TP'].sum() + dataframe['FN'].sum())\n"
     ]
    }
   ],
   "source": [
    "classic_results = pd.concat([calculate_color_specific_metrics(rulebased_extended_results)[['black', 'color', 'gray', 'border', 'total']],\n",
    "                             calculate_color_specific_metrics(maskrcnn_extended_results)[['black', 'color', 'gray', 'border', 'total']],\n",
    "                             calculate_color_specific_metrics(mask2former_extended_results)[['black', 'color', 'gray', 'border', 'total']]],\n",
    "                            axis=1,\n",
    "                           keys=[\"Morphology\", \"MaskRCNN\", \"Mask2Former\"]).T[['SQ', 'P', 'R', 'F1']]"
   ]
  },
  {
   "cell_type": "code",
   "execution_count": 21,
   "id": "03223a60",
   "metadata": {},
   "outputs": [
    {
     "data": {
      "text/plain": [
       "{'SQ': 0.84, 'F1': 0.9, 'P': 0.92, 'R': 0.88}"
      ]
     },
     "execution_count": 21,
     "metadata": {},
     "output_type": "execute_result"
    }
   ],
   "source": [
    "PQ_calculation(maskrcnn_extended_results)"
   ]
  },
  {
   "cell_type": "code",
   "execution_count": 22,
   "id": "062f82d3",
   "metadata": {},
   "outputs": [
    {
     "data": {
      "text/plain": [
       "{'SQ': 0.84, 'F1': 0.87, 'P': 0.94, 'R': 0.81}"
      ]
     },
     "execution_count": 22,
     "metadata": {},
     "output_type": "execute_result"
    }
   ],
   "source": [
    "PQ_calculation(mask2former_extended_results)"
   ]
  },
  {
   "cell_type": "markdown",
   "id": "3259af1a",
   "metadata": {},
   "source": [
    "## Training Variation Experiments"
   ]
  },
  {
   "cell_type": "code",
   "execution_count": 14,
   "id": "e4bb7568",
   "metadata": {},
   "outputs": [],
   "source": [
    "import seaborn as sns\n",
    "sns.set(style=\"ticks\")\n",
    "sns.set_style(\"darkgrid\")\n",
    "\n",
    "def create_training_df(list_of_dataframes: list):\n",
    "    number_of_samples = [10, 20, 40, 60, 80, 100]\n",
    "    out_df = {}\n",
    "    for i, item in enumerate(list_of_dataframes):\n",
    "        train_metrics = metric_calculation(item)\n",
    "        out_df[number_of_samples[i]] = train_metrics\n",
    "    return pd.DataFrame(out_df).T\n",
    "    "
   ]
  },
  {
   "cell_type": "code",
   "execution_count": 15,
   "id": "ba002e0f",
   "metadata": {},
   "outputs": [
    {
     "ename": "NameError",
     "evalue": "name 'mask2former_training' is not defined",
     "output_type": "error",
     "traceback": [
      "\u001b[0;31m---------------------------------------------------------------------------\u001b[0m",
      "\u001b[0;31mNameError\u001b[0m                                 Traceback (most recent call last)",
      "Cell \u001b[0;32mIn[15], line 5\u001b[0m\n\u001b[1;32m      1\u001b[0m fig, axes \u001b[38;5;241m=\u001b[39m plt\u001b[38;5;241m.\u001b[39msubplots(nrows\u001b[38;5;241m=\u001b[39m\u001b[38;5;241m1\u001b[39m, ncols\u001b[38;5;241m=\u001b[39m\u001b[38;5;241m1\u001b[39m, figsize\u001b[38;5;241m=\u001b[39m(\u001b[38;5;241m5\u001b[39m, \u001b[38;5;241m3\u001b[39m))\n\u001b[1;32m      3\u001b[0m \u001b[38;5;66;03m# create_training_df(maskrcnn_training).plot(ax=axes, ylim=(0.6, 1),\u001b[39;00m\n\u001b[1;32m      4\u001b[0m \u001b[38;5;66;03m#                                           style=['-', '--', '-.', ':'])\u001b[39;00m\n\u001b[0;32m----> 5\u001b[0m create_training_df(\u001b[43mmask2former_training\u001b[49m)\u001b[38;5;241m.\u001b[39mplot(ax\u001b[38;5;241m=\u001b[39maxes, ylim\u001b[38;5;241m=\u001b[39m(\u001b[38;5;241m0.6\u001b[39m, \u001b[38;5;241m1\u001b[39m),\n\u001b[1;32m      6\u001b[0m                                              style\u001b[38;5;241m=\u001b[39m[\u001b[38;5;124m'\u001b[39m\u001b[38;5;124m-\u001b[39m\u001b[38;5;124m'\u001b[39m, \u001b[38;5;124m'\u001b[39m\u001b[38;5;124m--\u001b[39m\u001b[38;5;124m'\u001b[39m, \u001b[38;5;124m'\u001b[39m\u001b[38;5;124m-.\u001b[39m\u001b[38;5;124m'\u001b[39m, \u001b[38;5;124m'\u001b[39m\u001b[38;5;124m:\u001b[39m\u001b[38;5;124m'\u001b[39m])\n\u001b[1;32m      8\u001b[0m axes\u001b[38;5;241m.\u001b[39mset_xlabel(\u001b[38;5;124m\"\u001b[39m\u001b[38;5;124mPercentage of training data\u001b[39m\u001b[38;5;124m\"\u001b[39m)\n\u001b[1;32m      9\u001b[0m plt\u001b[38;5;241m.\u001b[39msavefitg(\u001b[38;5;124m'\u001b[39m\u001b[38;5;124m../mask2former_training.png\u001b[39m\u001b[38;5;124m'\u001b[39m)\n",
      "\u001b[0;31mNameError\u001b[0m: name 'mask2former_training' is not defined"
     ]
    },
    {
     "data": {
      "image/png": "[encoded data removed]",
      "text/plain": [
       "<Figure size 500x300 with 1 Axes>"
      ]
     },
     "metadata": {},
     "output_type": "display_data"
    }
   ],
   "source": [
    "fig, axes = plt.subplots(nrows=1, ncols=1, figsize=(5, 3))\n",
    "\n",
    "# create_training_df(maskrcnn_training).plot(ax=axes, ylim=(0.6, 1),\n",
    "#                                           style=['-', '--', '-.', ':'])\n",
    "create_training_df(mask2former_training).plot(ax=axes, ylim=(0.6, 1),\n",
    "                                             style=['-', '--', '-.', ':'])\n",
    "\n",
    "axes.set_xlabel(\"Percentage of training data\")\n",
    "plt.savefitg('../mask2former_training.png')"
   ]
  }
 ],
 "metadata": {
  "kernelspec": {
   "display_name": "Python 3 (ipykernel)",
   "language": "python",
   "name": "python3"
  },
  "language_info": {
   "codemirror_mode": {
    "name": "ipython",
    "version": 3
   },
   "file_extension": ".py",
   "mimetype": "text/x-python",
   "name": "python",
   "nbconvert_exporter": "python",
   "pygments_lexer": "ipython3",
   "version": "3.10.9"
  }
 },
 "nbformat": 4,
 "nbformat_minor": 5
}
